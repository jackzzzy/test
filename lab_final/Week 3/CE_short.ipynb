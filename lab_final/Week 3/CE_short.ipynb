{
 "cells": [
  {
   "cell_type": "code",
   "execution_count": 10,
   "metadata": {},
   "outputs": [],
   "source": [
    "import numpy as np\n",
    "import pandas as pd"
   ]
  },
  {
   "cell_type": "code",
   "execution_count": 11,
   "metadata": {},
   "outputs": [
    {
     "name": "stdout",
     "output_type": "stream",
     "text": [
      "     sky airtemp humidity    wind water forcast enjoysport\n",
      "0  sunny    warm   normal  strong  warm    same        Yes\n",
      "1  sunny    warm     high  strong  warm    same        Yes\n",
      "2  rainy    cold     high  strong  warm  change         No\n",
      "3  sunny    warm     high  strong  cool  change        Yes\n"
     ]
    }
   ],
   "source": [
    "data = pd.read_csv(\"ce.csv\")\n",
    "print(data)"
   ]
  },
  {
   "cell_type": "code",
   "execution_count": 12,
   "metadata": {},
   "outputs": [
    {
     "name": "stdout",
     "output_type": "stream",
     "text": [
      "[['sunny' 'warm' 'normal' 'strong' 'warm' 'same']\n",
      " ['sunny' 'warm' 'high' 'strong' 'warm' 'same']\n",
      " ['rainy' 'cold' 'high' 'strong' 'warm' 'change']\n",
      " ['sunny' 'warm' 'high' 'strong' 'cool' 'change']]\n"
     ]
    }
   ],
   "source": [
    "concepts = np.array(data)[:, :-1]\n",
    "print(concepts)"
   ]
  },
  {
   "cell_type": "code",
   "execution_count": 13,
   "metadata": {},
   "outputs": [
    {
     "name": "stdout",
     "output_type": "stream",
     "text": [
      "['Yes' 'Yes' 'No' 'Yes']\n"
     ]
    }
   ],
   "source": [
    "target = np.array(data)[:, -1]\n",
    "print(target)"
   ]
  },
  {
   "cell_type": "code",
   "execution_count": 14,
   "metadata": {},
   "outputs": [],
   "source": [
    "def candidate_elimination(concepts, targets):\n",
    "    n = len(concepts[0])\n",
    "    s_hyp = concepts[0].copy()\n",
    "    g_hyp = [[\"?\" for _ in range(len(s_hyp))] for _ in range(len(concepts))]\n",
    "\n",
    "    for row, concept in enumerate(concepts):\n",
    "        for i in range(len(concepts[0])):\n",
    "            if concept[i] != s_hyp[i]:\n",
    "                if targets[row] == \"Yes\":\n",
    "                    s_hyp[i] = \"?\"\n",
    "                    g_hyp[row][i] = \"?\"\n",
    "                else:\n",
    "                    g_hyp[row][i] = s_hyp[i]\n",
    "\n",
    "    g_hyp = [row for row in g_hyp if row != [\"?\" for _ in range(len(s_hyp))]]\n",
    "\n",
    "    return s_hyp, g_hyp"
   ]
  },
  {
   "cell_type": "code",
   "execution_count": 15,
   "metadata": {},
   "outputs": [
    {
     "name": "stdout",
     "output_type": "stream",
     "text": [
      "Specific Hypothesis:  ['sunny' 'warm' '?' 'strong' '?' '?']\n",
      "General Hypothesis:  [['sunny', 'warm', '?', '?', '?', 'same']]\n"
     ]
    }
   ],
   "source": [
    "s, g = candidate_elimination(concepts, target)\n",
    "print(\"Specific Hypothesis: \", s)\n",
    "print(\"General Hypothesis: \", g)"
   ]
  }
 ],
 "metadata": {
  "kernelspec": {
   "display_name": "Python 3",
   "language": "python",
   "name": "python3"
  },
  "language_info": {
   "codemirror_mode": {
    "name": "ipython",
    "version": 3
   },
   "file_extension": ".py",
   "mimetype": "text/x-python",
   "name": "python",
   "nbconvert_exporter": "python",
   "pygments_lexer": "ipython3",
   "version": "3.10.9"
  }
 },
 "nbformat": 4,
 "nbformat_minor": 4
}
