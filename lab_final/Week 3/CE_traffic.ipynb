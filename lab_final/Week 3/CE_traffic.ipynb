{
 "cells": [
  {
   "cell_type": "code",
   "execution_count": 19,
   "metadata": {},
   "outputs": [],
   "source": [
    "import numpy as np\n",
    "import pandas as pd"
   ]
  },
  {
   "cell_type": "code",
   "execution_count": 20,
   "metadata": {},
   "outputs": [
    {
     "name": "stdout",
     "output_type": "stream",
     "text": [
      "   signal  hue  saturation is_traffic_light\n",
      "0  yellow   60         144              yes\n",
      "1   green   60         144              yes\n",
      "2   green   60         144              yes\n",
      "3  yellow   60         144              yes\n",
      "4     red   60         144              yes\n",
      "5    blue  200         250               no\n",
      "6  violet  250         125               no\n"
     ]
    }
   ],
   "source": [
    "data = pd.read_csv(\"traffic.csv\");\n",
    "print(data)"
   ]
  },
  {
   "cell_type": "code",
   "execution_count": 21,
   "metadata": {},
   "outputs": [
    {
     "name": "stdout",
     "output_type": "stream",
     "text": [
      "[['yellow' 60 144]\n",
      " ['green' 60 144]\n",
      " ['green' 60 144]\n",
      " ['yellow' 60 144]\n",
      " ['red' 60 144]\n",
      " ['blue' 200 250]\n",
      " ['violet' 250 125]]\n"
     ]
    }
   ],
   "source": [
    "concepts = np.array(data)[:,:-1]\n",
    "print(concepts)"
   ]
  },
  {
   "cell_type": "code",
   "execution_count": 22,
   "metadata": {},
   "outputs": [
    {
     "name": "stdout",
     "output_type": "stream",
     "text": [
      "['yes' 'yes' 'yes' 'yes' 'yes' 'no' 'no']\n"
     ]
    }
   ],
   "source": [
    "target = np.array(data)[:,-1]\n",
    "print(target)"
   ]
  },
  {
   "cell_type": "code",
   "execution_count": 23,
   "metadata": {},
   "outputs": [],
   "source": [
    "def train(attr, target):\n",
    "    s_hyp = attr[0].copy()\n",
    "    \n",
    "    n = len(s_hyp)\n",
    "    g_hyp = [[\"?\" for i in range(n)] for i in range(len(attr))]\n",
    "    \n",
    "    for row, val in enumerate(attr):\n",
    "        if target[row] == \"yes\":\n",
    "            for i in range(n):\n",
    "                if val[i] != s_hyp[i]:\n",
    "                    s_hyp[i] = \"?\"\n",
    "                    g_hyp[i][i] = \"?\"\n",
    "        if target[row] == \"no\":\n",
    "            for i in range(n):\n",
    "                if val[i] != s_hyp[i]:\n",
    "                    g_hyp[i][i] = s_hyp[i]\n",
    "                else:\n",
    "                    g_hyp[i][i] = \"?\"\n",
    "    \n",
    "    check = [\"?\" for i in range(n)]\n",
    "    indices = [i for i, row in enumerate(g_hyp) if row == check]\n",
    "    \n",
    "    for i in indices:\n",
    "        g_hyp.remove(check)\n",
    "        \n",
    "    return s_hyp, g_hyp"
   ]
  },
  {
   "cell_type": "code",
   "execution_count": 24,
   "metadata": {},
   "outputs": [
    {
     "name": "stdout",
     "output_type": "stream",
     "text": [
      "Specific Hypothesis:  ['?' 60 144]\n",
      "General Hypothesis:  [['?', 60, '?'], ['?', '?', 144]]\n"
     ]
    }
   ],
   "source": [
    "s, g = train(concepts, target)\n",
    "print(\"Specific Hypothesis: \", s)\n",
    "print(\"General Hypothesis: \", g)"
   ]
  },
  {
   "cell_type": "markdown",
   "metadata": {},
   "source": [
    "<h1><i>Calculating accuracy & error rate:</i></h1>"
   ]
  },
  {
   "cell_type": "code",
   "execution_count": 25,
   "metadata": {},
   "outputs": [],
   "source": [
    "def findS(concepts, target):\n",
    "    s_hyp = [\"0\"] * len(concepts[0])\n",
    "    for i in range(len(concepts)):\n",
    "        if target[i] == \"yes\":\n",
    "            for j in range(len(concepts[i])):\n",
    "                if s_hyp[j] == \"0\":\n",
    "                    s_hyp[j] = concepts[i][j]\n",
    "                elif s_hyp[j] != concepts[i][j]:\n",
    "                    s_hyp[j] = \"?\"\n",
    "    return s_hyp"
   ]
  },
  {
   "cell_type": "code",
   "execution_count": 26,
   "metadata": {},
   "outputs": [
    {
     "name": "stdout",
     "output_type": "stream",
     "text": [
      "['yes' 'yes' 'yes' 'yes' 'yes' 'no' 'no']\n"
     ]
    }
   ],
   "source": [
    "# target[0] = False\n",
    "print(target)"
   ]
  },
  {
   "cell_type": "code",
   "execution_count": 27,
   "metadata": {},
   "outputs": [
    {
     "name": "stdout",
     "output_type": "stream",
     "text": [
      "['?', 60, 144]\n"
     ]
    }
   ],
   "source": [
    "s1 = findS(concepts, target)\n",
    "print(s1)"
   ]
  },
  {
   "cell_type": "code",
   "execution_count": 28,
   "metadata": {},
   "outputs": [],
   "source": [
    "match = 0\n",
    "for i in range(len(s1)):\n",
    "    if s1[i] == s[i]:\n",
    "        match += 1\n",
    "        "
   ]
  },
  {
   "cell_type": "code",
   "execution_count": 29,
   "metadata": {},
   "outputs": [
    {
     "name": "stdout",
     "output_type": "stream",
     "text": [
      "Accuracy:  100.0 %\n"
     ]
    }
   ],
   "source": [
    "print(\"Accuracy: \", match/len(s1) * 100, \"%\")"
   ]
  },
  {
   "cell_type": "code",
   "execution_count": 30,
   "metadata": {},
   "outputs": [
    {
     "name": "stdout",
     "output_type": "stream",
     "text": [
      "Error Rate:  0.0 %\n"
     ]
    }
   ],
   "source": [
    "print(\"Error Rate: \", (1 - (match/len(s1))) * 100, \"%\")"
   ]
  },
  {
   "cell_type": "markdown",
   "metadata": {},
   "source": [
    "<h1>Spot</h1>"
   ]
  },
  {
   "cell_type": "code",
   "execution_count": 31,
   "metadata": {},
   "outputs": [],
   "source": [
    "data = pd.read_csv"
   ]
  }
 ],
 "metadata": {
  "kernelspec": {
   "display_name": "Python 3",
   "language": "python",
   "name": "python3"
  },
  "language_info": {
   "codemirror_mode": {
    "name": "ipython",
    "version": 3
   },
   "file_extension": ".py",
   "mimetype": "text/x-python",
   "name": "python",
   "nbconvert_exporter": "python",
   "pygments_lexer": "ipython3",
   "version": "3.10.9"
  }
 },
 "nbformat": 4,
 "nbformat_minor": 4
}
