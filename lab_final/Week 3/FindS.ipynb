{
 "cells": [
  {
   "cell_type": "code",
   "execution_count": 10,
   "metadata": {},
   "outputs": [],
   "source": [
    "import pandas as pd\n",
    "import numpy as np"
   ]
  },
  {
   "cell_type": "code",
   "execution_count": 11,
   "metadata": {},
   "outputs": [
    {
     "name": "stdout",
     "output_type": "stream",
     "text": [
      "  citations    size in_library       price editions  buy\n",
      "0      some   small         no  affordable     many   no\n",
      "1      many     big         no   expensive      one  yes\n",
      "2      some     big     always   expensive      few   no\n",
      "3      many  medium         no   expensive     many  yes\n",
      "4      many   small         no  affordable     many  yes\n"
     ]
    }
   ],
   "source": [
    "data = pd.read_csv(\"s.csv\")\n",
    "print(data)"
   ]
  },
  {
   "cell_type": "code",
   "execution_count": 12,
   "metadata": {},
   "outputs": [
    {
     "name": "stdout",
     "output_type": "stream",
     "text": [
      "[['some' 'small' 'no' 'affordable' 'many']\n",
      " ['many' 'big' 'no' 'expensive' 'one']\n",
      " ['some' 'big' 'always' 'expensive' 'few']\n",
      " ['many' 'medium' 'no' 'expensive' 'many']\n",
      " ['many' 'small' 'no' 'affordable' 'many']]\n"
     ]
    }
   ],
   "source": [
    "concepts = np.array(data)[:, :-1]\n",
    "print(concepts)"
   ]
  },
  {
   "cell_type": "code",
   "execution_count": 13,
   "metadata": {},
   "outputs": [
    {
     "name": "stdout",
     "output_type": "stream",
     "text": [
      "['no' 'yes' 'no' 'yes' 'yes']\n"
     ]
    }
   ],
   "source": [
    "target = np.array(data)[:, -1]\n",
    "print(target)"
   ]
  },
  {
   "cell_type": "code",
   "execution_count": 14,
   "metadata": {},
   "outputs": [],
   "source": [
    "def train(concepts, target):\n",
    "    s_hyp = [\"0\"] * len(concepts[0])\n",
    "    for i in range(len(concepts)):\n",
    "        if target[i] == \"yes\":\n",
    "            for j in range(len(concepts[i])):\n",
    "                if s_hyp[j] == \"0\":\n",
    "                    s_hyp[j] = concepts[i][j]\n",
    "                elif s_hyp[j] != concepts[i][j]:\n",
    "                    s_hyp[j] = \"?\"\n",
    "    return s_hyp"
   ]
  },
  {
   "cell_type": "code",
   "execution_count": 15,
   "metadata": {},
   "outputs": [],
   "source": [
    "def predict(instance, s_hyp):\n",
    "    for i in range(len(instance)):\n",
    "        if s_hyp[i] != \"?\" and s_hyp[i] != instance[i]:\n",
    "            return \"no\"\n",
    "    return \"yes\""
   ]
  },
  {
   "cell_type": "code",
   "execution_count": 18,
   "metadata": {},
   "outputs": [
    {
     "name": "stdout",
     "output_type": "stream",
     "text": [
      "yes\n",
      "no\n"
     ]
    }
   ],
   "source": [
    "s_hyp = train(concepts, target)\n",
    "instance = [\"many\", \"small\", \"no\", \"affordable\", \"many\"]\n",
    "print(predict(instance, s_hyp))\n",
    "instance = [\"some\", \"big\", \"always\", \"expensive\", \"few\"]\n",
    "print(predict(instance, s_hyp))"
   ]
  }
 ],
 "metadata": {
  "kernelspec": {
   "display_name": "Python 3",
   "language": "python",
   "name": "python3"
  },
  "language_info": {
   "codemirror_mode": {
    "name": "ipython",
    "version": 3
   },
   "file_extension": ".py",
   "mimetype": "text/x-python",
   "name": "python",
   "nbconvert_exporter": "python",
   "pygments_lexer": "ipython3",
   "version": "3.10.9"
  }
 },
 "nbformat": 4,
 "nbformat_minor": 4
}
