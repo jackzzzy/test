{
 "cells": [
  {
   "cell_type": "code",
   "execution_count": 2,
   "metadata": {},
   "outputs": [
    {
     "name": "stdout",
     "output_type": "stream",
     "text": [
      "Accuracy: 0.97\n"
     ]
    }
   ],
   "source": [
    "from sklearn.datasets import load_breast_cancer\n",
    "from sklearn.neural_network import MLPClassifier\n",
    "from sklearn.model_selection import train_test_split\n",
    "from sklearn.metrics import accuracy_score\n",
    "\n",
    "# Load the dataset\n",
    "data = load_breast_cancer()\n",
    "X = data.data # type: ignore\n",
    "y = data.target # type: ignore\n",
    "\n",
    "# Split the data into training and testing sets\n",
    "X_train, X_test, y_train, y_test = train_test_split(\n",
    "  X, y, test_size=0.3, random_state=42\n",
    ")\n",
    "\n",
    "# Define the parameters for the ANN model\n",
    "hidden_layer_sizes = (10,)  # Single hidden layer with 10 nodes\n",
    "activation = \"relu\"  # Rectified Linear Unit activation function\n",
    "learning_rate = \"constant\"  # Constant learning rate\n",
    "max_iter = 5000  # Maximum number of iterations for optimization\n",
    "random_state = 42  # Random state for reproducibility\n",
    "\n",
    "# Create the ANN model\n",
    "mlp = MLPClassifier(\n",
    "  hidden_layer_sizes=hidden_layer_sizes,\n",
    "  activation=activation,\n",
    "  max_iter=max_iter,\n",
    "  learning_rate=learning_rate,\n",
    "  random_state=random_state,\n",
    ")\n",
    "\n",
    "# Train the model on the training data\n",
    "mlp.fit(X_train, y_train)\n",
    "\n",
    "# Make predictions on the testing data\n",
    "y_pred = mlp.predict(X_test)\n",
    "\n",
    "# Evaluate the performance of the model\n",
    "accuracy = accuracy_score(y_test, y_pred)\n",
    "print(f\"Accuracy: {accuracy:.2f}\")"
   ]
  }
 ],
 "metadata": {
  "kernelspec": {
   "display_name": "machine-learning-env",
   "language": "python",
   "name": "python3"
  },
  "language_info": {
   "codemirror_mode": {
    "name": "ipython",
    "version": 3
   },
   "file_extension": ".py",
   "mimetype": "text/x-python",
   "name": "python",
   "nbconvert_exporter": "python",
   "pygments_lexer": "ipython3",
   "version": "3.10.9"
  },
  "orig_nbformat": 4
 },
 "nbformat": 4,
 "nbformat_minor": 2
}
