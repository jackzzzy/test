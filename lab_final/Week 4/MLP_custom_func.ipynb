{
 "cells": [
  {
   "cell_type": "code",
   "execution_count": 1,
   "metadata": {},
   "outputs": [],
   "source": [
    "import numpy as np"
   ]
  },
  {
   "cell_type": "code",
   "execution_count": 2,
   "metadata": {},
   "outputs": [],
   "source": [
    "input_layer = np.array([[0, 0], [0, 1], [1, 0], [1, 1]])\n",
    "output_layer = np.array([[0], [1], [1], [0]])"
   ]
  },
  {
   "cell_type": "code",
   "execution_count": 3,
   "metadata": {},
   "outputs": [],
   "source": [
    "def sigmoid(x):\n",
    "    return 1/(1 + np.exp(-x))\n",
    "\n",
    "def derivative(x):\n",
    "    return x*(1-x)"
   ]
  },
  {
   "cell_type": "code",
   "execution_count": 4,
   "metadata": {},
   "outputs": [],
   "source": [
    "epochs = 5000\n",
    "lr = 0.1\n",
    "\n",
    "il_neurons = input_layer.shape[1]\n",
    "hl_neurons = 3\n",
    "o_neurons = 1"
   ]
  },
  {
   "cell_type": "code",
   "execution_count": 5,
   "metadata": {},
   "outputs": [],
   "source": [
    "wh = np.random.uniform(size = (il_neurons, hl_neurons))\n",
    "bh = np.random.uniform(size = (1, hl_neurons))\n",
    "\n",
    "wout = np.random.uniform(size = (hl_neurons, o_neurons))\n",
    "bout = np.random.uniform(size = (1, o_neurons))"
   ]
  },
  {
   "cell_type": "code",
   "execution_count": 6,
   "metadata": {},
   "outputs": [],
   "source": [
    "for i in range(epochs):\n",
    "    \n",
    "    hl_input = np.dot(input_layer, wh) + bh\n",
    "    hl_activations = sigmoid(hl_input)\n",
    "    ol_input = np.dot(hl_activations, wout) + bout\n",
    "    output = sigmoid(ol_input)\n",
    "    \n",
    "    error = output_layer - output\n",
    "    slope_ol = derivative(output)\n",
    "    slope_hl = derivative(hl_activations)\n",
    "    delta = error * slope_ol\n",
    "    error_hl = delta.dot(wout.T)\n",
    "    delta_hl = error_hl * slope_hl\n",
    "    \n",
    "    wout += hl_activations.T.dot(delta) * lr\n",
    "    bout += np.sum(delta, axis = 0, keepdims = True) * lr\n",
    "    wh += input_layer.T.dot(delta_hl) * lr\n",
    "    bh += np.sum(delta_hl, axis = 0, keepdims = True) * lr"
   ]
  },
  {
   "cell_type": "markdown",
   "metadata": {},
   "source": [
    "<h3><em>Accuracy & Error Rate:</em></h3>"
   ]
  },
  {
   "cell_type": "code",
   "execution_count": 7,
   "metadata": {},
   "outputs": [
    {
     "name": "stdout",
     "output_type": "stream",
     "text": [
      "Accuracy:  100.0\n",
      "Error rate:  0.0\n"
     ]
    }
   ],
   "source": [
    "correct = 0\n",
    "for act, pre in zip(output_layer, output):\n",
    "    if act == round(pre[0]):\n",
    "        correct+=1\n",
    "        \n",
    "print(\"Accuracy: \", correct/output_layer.shape[0] * 100)\n",
    "print(\"Error rate: \", (1 - correct/output_layer.shape[0]) * 100)"
   ]
  },
  {
   "cell_type": "code",
   "execution_count": null,
   "metadata": {},
   "outputs": [],
   "source": []
  }
 ],
 "metadata": {
  "kernelspec": {
   "display_name": "machine-learning-env",
   "language": "python",
   "name": "python3"
  },
  "language_info": {
   "codemirror_mode": {
    "name": "ipython",
    "version": 3
   },
   "file_extension": ".py",
   "mimetype": "text/x-python",
   "name": "python",
   "nbconvert_exporter": "python",
   "pygments_lexer": "ipython3",
   "version": "3.10.9"
  },
  "vscode": {
   "interpreter": {
    "hash": "3b8b7c7e15eef0a06975eed17c9c42ca97f2c946c78e9a3a02fa999bf29a5af6"
   }
  }
 },
 "nbformat": 4,
 "nbformat_minor": 4
}
