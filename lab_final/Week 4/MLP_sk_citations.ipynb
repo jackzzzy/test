{
 "cells": [
  {
   "cell_type": "code",
   "execution_count": 43,
   "metadata": {},
   "outputs": [],
   "source": [
    "from sklearn.neural_network import MLPClassifier\n",
    "import pandas as pd\n",
    "import numpy as np"
   ]
  },
  {
   "cell_type": "code",
   "execution_count": 44,
   "metadata": {},
   "outputs": [
    {
     "name": "stdout",
     "output_type": "stream",
     "text": [
      "    paper_id  cited  isGraph\n",
      "0          1      2        0\n",
      "1          2     20        1\n",
      "2          3     14        1\n",
      "3          4     20        1\n",
      "4          5     15        0\n",
      "5          6      7        0\n",
      "6          7     14        1\n",
      "7          8      3        0\n",
      "8          9      4        0\n",
      "9         10      2        0\n",
      "10        11      4        0\n",
      "11        12      3        0\n",
      "12        13     15        0\n",
      "13        14      3        1\n",
      "14        15     11        1\n",
      "15        16      4        0\n",
      "16        17     15        0\n",
      "17        18     14        0\n",
      "18        19      4        0\n",
      "19        20      2        1\n"
     ]
    }
   ],
   "source": [
    "data = pd.read_csv(\"citations.csv\")\n",
    "print(data)"
   ]
  },
  {
   "cell_type": "code",
   "execution_count": 45,
   "metadata": {},
   "outputs": [
    {
     "name": "stdout",
     "output_type": "stream",
     "text": [
      "[[ 1  2]\n",
      " [ 2 20]\n",
      " [ 3 14]\n",
      " [ 4 20]\n",
      " [ 5 15]\n",
      " [ 6  7]\n",
      " [ 7 14]\n",
      " [ 8  3]\n",
      " [ 9  4]\n",
      " [10  2]]\n"
     ]
    }
   ],
   "source": [
    "X = np.array(data)[:10, :2]\n",
    "print(X)"
   ]
  },
  {
   "cell_type": "code",
   "execution_count": 46,
   "metadata": {},
   "outputs": [
    {
     "name": "stdout",
     "output_type": "stream",
     "text": [
      "[0 1 1 1 0 0 1 0 0 0]\n"
     ]
    }
   ],
   "source": [
    "y = np.array(data)[:10, 2]\n",
    "print(y)"
   ]
  },
  {
   "cell_type": "code",
   "execution_count": 47,
   "metadata": {},
   "outputs": [
    {
     "name": "stdout",
     "output_type": "stream",
     "text": [
      "Predicted values for test set:  [0 0 0 0 0 0 0 0 0 0]\n",
      "Expected values for test set:  [0 0 0 1 1 0 0 0 0 1]\n"
     ]
    }
   ],
   "source": [
    "nn = MLPClassifier(\n",
    "  solver=\"sgd\",\n",
    "  activation=\"relu\",\n",
    "  alpha=1e-5,\n",
    "  hidden_layer_sizes=(5, 2),\n",
    "  random_state=1,\n",
    "  max_iter=10000\n",
    ")\n",
    "nn.fit(X, y)\n",
    "print(\"Predicted values for test set: \", nn.predict(np.array(data)[10:, :2]))\n",
    "print(\"Expected values for test set: \", np.array(data)[10:, 2])"
   ]
  },
  {
   "attachments": {},
   "cell_type": "markdown",
   "metadata": {},
   "source": [
    "<h3><em>Accuracy:</em></h3>"
   ]
  },
  {
   "cell_type": "code",
   "execution_count": 48,
   "metadata": {},
   "outputs": [
    {
     "name": "stdout",
     "output_type": "stream",
     "text": [
      "Accuracy:  90.0\n"
     ]
    }
   ],
   "source": [
    "print(\"Accuracy: \", round(nn.score(X, y), 2) * 100)"
   ]
  }
 ],
 "metadata": {
  "kernelspec": {
   "display_name": "Python 3",
   "language": "python",
   "name": "python3"
  },
  "language_info": {
   "codemirror_mode": {
    "name": "ipython",
    "version": 3
   },
   "file_extension": ".py",
   "mimetype": "text/x-python",
   "name": "python",
   "nbconvert_exporter": "python",
   "pygments_lexer": "ipython3",
   "version": "3.10.9"
  }
 },
 "nbformat": 4,
 "nbformat_minor": 4
}
