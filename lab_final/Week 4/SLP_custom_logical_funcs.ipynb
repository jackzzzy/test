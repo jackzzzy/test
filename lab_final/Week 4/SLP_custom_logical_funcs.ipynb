{
 "cells": [
  {
   "attachments": {},
   "cell_type": "markdown",
   "metadata": {},
   "source": [
    "Train the network for implementing single layer perceptron classifier for the following logic functions: OR, AND"
   ]
  },
  {
   "cell_type": "code",
   "execution_count": 1,
   "metadata": {},
   "outputs": [],
   "source": [
    "import numpy as np"
   ]
  },
  {
   "cell_type": "code",
   "execution_count": 2,
   "metadata": {},
   "outputs": [],
   "source": [
    "class NeuralNetwork():\n",
    "    def __init__(self):\n",
    "        np.random.seed(1)\n",
    "        self.weight_matrix = 2 * np.random.random((2, 1)) - 1\n",
    "        \n",
    "    def derivative(self, x):\n",
    "        return 1 - np.tanh(x)**2\n",
    "    \n",
    "    def fp(self, input_layer):\n",
    "        return np.tanh(np.dot(input_layer, self.weight_matrix))\n",
    "    \n",
    "    def train(self, input_layer, output_layer, epochs):\n",
    "        \n",
    "        for i in range(epochs):\n",
    "            output = self.fp(input_layer)\n",
    "            \n",
    "#             Backward Propogation\n",
    "            error = output_layer - output\n",
    "            adj = np.dot(input_layer.T, error * self.derivative(output))\n",
    "            self.weight_matrix += adj"
   ]
  },
  {
   "cell_type": "code",
   "execution_count": 3,
   "metadata": {},
   "outputs": [
    {
     "name": "stdout",
     "output_type": "stream",
     "text": [
      "Current weight matrix: (Before training): \n",
      " [[-0.16595599]\n",
      " [ 0.44064899]]\n"
     ]
    }
   ],
   "source": [
    "nn = NeuralNetwork()\n",
    "print(\"Current weight matrix: (Before training): \\n\", nn.weight_matrix)"
   ]
  },
  {
   "cell_type": "code",
   "execution_count": 4,
   "metadata": {},
   "outputs": [],
   "source": [
    "input_layer = np.array([[0, 0], [0, 1], [0, 1], [1, 1]])\n",
    "output_layer = np.array([[1], [1], [1], [0]])"
   ]
  },
  {
   "cell_type": "code",
   "execution_count": 5,
   "metadata": {},
   "outputs": [
    {
     "name": "stdout",
     "output_type": "stream",
     "text": [
      "Weight matrix after training: \n",
      " [[-4.86888697]\n",
      " [ 4.86144087]]\n"
     ]
    }
   ],
   "source": [
    "nn.train(input_layer, output_layer, 10000)\n",
    "print(\"Weight matrix after training: \\n\", nn.weight_matrix)"
   ]
  },
  {
   "cell_type": "code",
   "execution_count": 6,
   "metadata": {},
   "outputs": [
    {
     "name": "stdout",
     "output_type": "stream",
     "text": [
      "Predicting output for [1, 0]:  -1\n"
     ]
    }
   ],
   "source": [
    "print(\"Predicting output for [1, 0]: \", round(nn.fp(np.array([1, 0]))[0]))"
   ]
  },
  {
   "cell_type": "markdown",
   "metadata": {},
   "source": [
    "<h2><em>Accuracy & Error Rate: </em></h2>"
   ]
  },
  {
   "cell_type": "code",
   "execution_count": 7,
   "metadata": {},
   "outputs": [
    {
     "name": "stdout",
     "output_type": "stream",
     "text": [
      "Accuracy:  75.0\n",
      "Error rate:  25.0\n"
     ]
    }
   ],
   "source": [
    "correct = 0\n",
    "for act, inp in zip(output_layer, input_layer):\n",
    "    if act == round(nn.fp(inp)[0]):\n",
    "        correct+=1\n",
    "        \n",
    "print(\"Accuracy: \", correct/output_layer.shape[0] * 100)\n",
    "print(\"Error rate: \", (1 - correct/output_layer.shape[0]) * 100)"
   ]
  },
  {
   "cell_type": "markdown",
   "metadata": {},
   "source": [
    "<h3>Training for: AND gate </h3>"
   ]
  },
  {
   "cell_type": "code",
   "execution_count": 8,
   "metadata": {},
   "outputs": [
    {
     "name": "stdout",
     "output_type": "stream",
     "text": [
      "Current weight matrix: (Before training): \n",
      " [[-0.16595599]\n",
      " [ 0.44064899]]\n",
      "Weight matrix after training: \n",
      " [[0.33928515]\n",
      " [0.33928515]]\n",
      "Predicting output for [1, 0]:  0\n"
     ]
    }
   ],
   "source": [
    "nn = NeuralNetwork()\n",
    "print(\"Current weight matrix: (Before training): \\n\", nn.weight_matrix)\n",
    "input_layer = np.array([[0, 0], [0, 1], [1, 0], [1, 1]])\n",
    "output_layer = np.array([[0], [0], [0], [1]])\n",
    "nn.train(input_layer, output_layer, 10000)\n",
    "print(\"Weight matrix after training: \\n\", nn.weight_matrix)\n",
    "print(\"Predicting output for [1, 0]: \", round(nn.fp(np.array([1, 0]))[0]))"
   ]
  },
  {
   "cell_type": "code",
   "execution_count": 9,
   "metadata": {},
   "outputs": [
    {
     "name": "stdout",
     "output_type": "stream",
     "text": [
      "Accuracy:  100.0\n",
      "Error rate:  0.0\n"
     ]
    }
   ],
   "source": [
    "correct = 0\n",
    "for act, inp in zip(output_layer, input_layer):\n",
    "    if act == round(nn.fp(inp)[0]):\n",
    "        correct+=1\n",
    "        \n",
    "print(\"Accuracy: \", correct/output_layer.shape[0] * 100)\n",
    "print(\"Error rate: \", (1 - correct/output_layer.shape[0]) * 100)"
   ]
  },
  {
   "cell_type": "markdown",
   "metadata": {},
   "source": [
    "<h3>Training for: OR gate </h3>"
   ]
  },
  {
   "cell_type": "code",
   "execution_count": 10,
   "metadata": {},
   "outputs": [
    {
     "name": "stdout",
     "output_type": "stream",
     "text": [
      "Current weight matrix: (Before training): \n",
      " [[-0.16595599]\n",
      " [ 0.44064899]]\n",
      "Weight matrix after training: \n",
      " [[4.86602761]\n",
      " [4.86598247]]\n",
      "Predicting output for [1, 0]:  1\n"
     ]
    }
   ],
   "source": [
    "nn = NeuralNetwork()\n",
    "print(\"Current weight matrix: (Before training): \\n\", nn.weight_matrix)\n",
    "input_layer = np.array([[0, 0], [0, 1], [1, 0], [1, 1]])\n",
    "output_layer = np.array([[0], [1], [1], [1]])\n",
    "nn.train(input_layer, output_layer, 10000)\n",
    "print(\"Weight matrix after training: \\n\", nn.weight_matrix)\n",
    "print(\"Predicting output for [1, 0]: \", round(nn.fp(np.array([1, 0]))[0]))"
   ]
  },
  {
   "cell_type": "code",
   "execution_count": 11,
   "metadata": {},
   "outputs": [
    {
     "name": "stdout",
     "output_type": "stream",
     "text": [
      "Accuracy:  100.0\n",
      "Error rate:  0.0\n"
     ]
    }
   ],
   "source": [
    "correct = 0\n",
    "for act, inp in zip(output_layer, input_layer):\n",
    "    if act == round(nn.fp(inp)[0]):\n",
    "        correct+=1\n",
    "        \n",
    "print(\"Accuracy: \", correct/output_layer.shape[0] * 100)\n",
    "print(\"Error rate: \", (1 - correct/output_layer.shape[0]) * 100)"
   ]
  },
  {
   "cell_type": "markdown",
   "metadata": {},
   "source": [
    "<h3>Training for: XOR gate </h3>"
   ]
  },
  {
   "cell_type": "code",
   "execution_count": 12,
   "metadata": {},
   "outputs": [
    {
     "name": "stdout",
     "output_type": "stream",
     "text": [
      "Current weight matrix: (Before training): \n",
      " [[-0.16595599]\n",
      " [ 0.44064899]]\n",
      "Weight matrix after training: \n",
      " [[0.4895021]\n",
      " [0.4895021]]\n",
      "Predicting output for [1, 0]:  0\n"
     ]
    }
   ],
   "source": [
    "nn = NeuralNetwork()\n",
    "print(\"Current weight matrix: (Before training): \\n\", nn.weight_matrix)\n",
    "input_layer = np.array([[0, 0], [0, 1], [1, 0], [1, 1]])\n",
    "output_layer = np.array([[0], [1], [1], [0]])\n",
    "nn.train(input_layer, output_layer, 10000)\n",
    "print(\"Weight matrix after training: \\n\", nn.weight_matrix)\n",
    "print(\"Predicting output for [1, 0]: \", round(nn.fp(np.array([1, 0]))[0]))"
   ]
  },
  {
   "cell_type": "code",
   "execution_count": 13,
   "metadata": {},
   "outputs": [
    {
     "name": "stdout",
     "output_type": "stream",
     "text": [
      "Accuracy:  25.0\n",
      "Error rate:  75.0\n"
     ]
    }
   ],
   "source": [
    "correct = 0\n",
    "for act, inp in zip(output_layer, input_layer):\n",
    "    if act == round(nn.fp(inp)[0]):\n",
    "        correct+=1\n",
    "        \n",
    "print(\"Accuracy: \", correct/output_layer.shape[0] * 100)\n",
    "print(\"Error rate: \", (1 - correct/output_layer.shape[0]) * 100)"
   ]
  },
  {
   "cell_type": "code",
   "execution_count": null,
   "metadata": {},
   "outputs": [],
   "source": []
  }
 ],
 "metadata": {
  "kernelspec": {
   "display_name": "machine-learning-env",
   "language": "python",
   "name": "python3"
  },
  "language_info": {
   "codemirror_mode": {
    "name": "ipython",
    "version": 3
   },
   "file_extension": ".py",
   "mimetype": "text/x-python",
   "name": "python",
   "nbconvert_exporter": "python",
   "pygments_lexer": "ipython3",
   "version": "3.10.9"
  },
  "vscode": {
   "interpreter": {
    "hash": "3b8b7c7e15eef0a06975eed17c9c42ca97f2c946c78e9a3a02fa999bf29a5af6"
   }
  }
 },
 "nbformat": 4,
 "nbformat_minor": 4
}
