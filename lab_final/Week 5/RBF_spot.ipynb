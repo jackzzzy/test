{
 "cells": [
  {
   "cell_type": "code",
   "execution_count": 16,
   "metadata": {},
   "outputs": [
    {
     "name": "stdout",
     "output_type": "stream",
     "text": [
      "Test set accuracy: -0.3061679470046508\n"
     ]
    }
   ],
   "source": [
    "import numpy as np\n",
    "from sklearn.model_selection import train_test_split\n",
    "from sklearn.neural_network import MLPRegressor\n",
    "from sklearn.metrics.pairwise import rbf_kernel\n",
    "\n",
    "# Input data (X) and corresponding labels (y)\n",
    "X = np.array([[4, -4], [-4, 4], [2, 1], [-2, -1], [5, 3], [1, -3], [0, 0], [3, 2]])\n",
    "y = np.array([10, 10, 1, 1, 20, -5, 0, 5])\n",
    "\n",
    "# Split the data into train and test sets\n",
    "X_train, X_test, y_train, y_test = train_test_split(X, y, test_size=0.25, random_state=42)\n",
    "\n",
    "# Construct the Radial Basis Function Network\n",
    "rbf = MLPRegressor(hidden_layer_sizes=(4,), activation='logistic', solver='lbfgs', max_iter=1000, random_state=42)\n",
    "\n",
    "# Calculate the RBF kernel matrix\n",
    "gamma = 1.0 / X.shape[1]  # Set gamma to be 1 / num_features\n",
    "K_train = rbf_kernel(X_train, X_train, gamma=gamma)\n",
    "K_test = rbf_kernel(X_test, X_train, gamma=gamma)\n",
    "\n",
    "# Train the model on the training data\n",
    "rbf.fit(K_train, y_train)\n",
    "\n",
    "# Evaluate the model on the test data\n",
    "test_pred = rbf.predict(K_test)\n",
    "\n",
    "# Print the test set accuracy\n",
    "print(f\"Test set accuracy: {rbf.score(K_test, y_test)}\")\n"
   ]
  }
 ],
 "metadata": {
  "kernelspec": {
   "display_name": "machine-learning-env",
   "language": "python",
   "name": "python3"
  },
  "language_info": {
   "codemirror_mode": {
    "name": "ipython",
    "version": 3
   },
   "file_extension": ".py",
   "mimetype": "text/x-python",
   "name": "python",
   "nbconvert_exporter": "python",
   "pygments_lexer": "ipython3",
   "version": "3.10.9"
  },
  "orig_nbformat": 4
 },
 "nbformat": 4,
 "nbformat_minor": 2
}
