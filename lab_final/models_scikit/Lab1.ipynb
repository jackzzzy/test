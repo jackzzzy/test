{
 "cells": [
  {
   "cell_type": "code",
   "execution_count": 43,
   "id": "12b4a1e9",
   "metadata": {},
   "outputs": [],
   "source": [
    "import numpy as np\n",
    "import pandas as pd"
   ]
  },
  {
   "cell_type": "code",
   "execution_count": 44,
   "id": "6b9459dc",
   "metadata": {},
   "outputs": [],
   "source": [
    "df = pd.read_csv(\"./datasets/findS.csv\")"
   ]
  },
  {
   "cell_type": "code",
   "execution_count": 45,
   "id": "621aef3c",
   "metadata": {},
   "outputs": [
    {
     "data": {
      "text/html": [
       "<div>\n",
       "<style scoped>\n",
       "    .dataframe tbody tr th:only-of-type {\n",
       "        vertical-align: middle;\n",
       "    }\n",
       "\n",
       "    .dataframe tbody tr th {\n",
       "        vertical-align: top;\n",
       "    }\n",
       "\n",
       "    .dataframe thead th {\n",
       "        text-align: right;\n",
       "    }\n",
       "</style>\n",
       "<table border=\"1\" class=\"dataframe\">\n",
       "  <thead>\n",
       "    <tr style=\"text-align: right;\">\n",
       "      <th></th>\n",
       "      <th>Sky</th>\n",
       "      <th>AirTemp</th>\n",
       "      <th>Humidity</th>\n",
       "      <th>Wind</th>\n",
       "      <th>Water</th>\n",
       "      <th>Forecast</th>\n",
       "      <th>Output</th>\n",
       "    </tr>\n",
       "  </thead>\n",
       "  <tbody>\n",
       "    <tr>\n",
       "      <th>0</th>\n",
       "      <td>Sunny</td>\n",
       "      <td>Warm</td>\n",
       "      <td>Normal</td>\n",
       "      <td>Strong</td>\n",
       "      <td>Warm</td>\n",
       "      <td>Same</td>\n",
       "      <td>1</td>\n",
       "    </tr>\n",
       "    <tr>\n",
       "      <th>1</th>\n",
       "      <td>Sunny</td>\n",
       "      <td>Warm</td>\n",
       "      <td>High</td>\n",
       "      <td>Strong</td>\n",
       "      <td>Warm</td>\n",
       "      <td>Same</td>\n",
       "      <td>1</td>\n",
       "    </tr>\n",
       "    <tr>\n",
       "      <th>2</th>\n",
       "      <td>Rainy</td>\n",
       "      <td>Cold</td>\n",
       "      <td>High</td>\n",
       "      <td>Strong</td>\n",
       "      <td>Warm</td>\n",
       "      <td>Change</td>\n",
       "      <td>0</td>\n",
       "    </tr>\n",
       "    <tr>\n",
       "      <th>3</th>\n",
       "      <td>Sunny</td>\n",
       "      <td>Warm</td>\n",
       "      <td>High</td>\n",
       "      <td>Strong</td>\n",
       "      <td>Cool</td>\n",
       "      <td>Change</td>\n",
       "      <td>1</td>\n",
       "    </tr>\n",
       "    <tr>\n",
       "      <th>4</th>\n",
       "      <td>Rainy</td>\n",
       "      <td>Cold</td>\n",
       "      <td>Normal</td>\n",
       "      <td>Weak</td>\n",
       "      <td>Cool</td>\n",
       "      <td>Same</td>\n",
       "      <td>1</td>\n",
       "    </tr>\n",
       "  </tbody>\n",
       "</table>\n",
       "</div>"
      ],
      "text/plain": [
       "     Sky AirTemp Humidity    Wind Water Forecast  Output\n",
       "0  Sunny    Warm   Normal  Strong  Warm     Same       1\n",
       "1  Sunny    Warm     High  Strong  Warm     Same       1\n",
       "2  Rainy    Cold     High  Strong  Warm   Change       0\n",
       "3  Sunny    Warm     High  Strong  Cool   Change       1\n",
       "4  Rainy    Cold   Normal    Weak  Cool     Same       1"
      ]
     },
     "execution_count": 45,
     "metadata": {},
     "output_type": "execute_result"
    }
   ],
   "source": [
    "df"
   ]
  },
  {
   "cell_type": "code",
   "execution_count": 77,
   "id": "a3dfdb1c",
   "metadata": {},
   "outputs": [],
   "source": [
    "X = df.drop(columns = ['Output'] , axis=1)\n",
    "y = df['Output']\n",
    "X = np.array(X)\n",
    "X = X[0:4 , :]\n",
    "y = np.array(y)"
   ]
  },
  {
   "cell_type": "code",
   "execution_count": 78,
   "id": "ca9c0a70",
   "metadata": {},
   "outputs": [
    {
     "name": "stdout",
     "output_type": "stream",
     "text": [
      "['Sunny' 'Warm' 'Normal' 'Strong' 'Warm' 'Same']\n",
      "['Sunny' 'Warm' 'High' 'Strong' 'Warm' 'Same']\n",
      "['Rainy' 'Cold' 'High' 'Strong' 'Warm' 'Change']\n",
      "['Sunny' 'Warm' 'High' 'Strong' 'Cool' 'Change']\n"
     ]
    }
   ],
   "source": [
    "for row in X:\n",
    "    print (row)\n"
   ]
  },
  {
   "cell_type": "code",
   "execution_count": 79,
   "id": "2f668cdc",
   "metadata": {},
   "outputs": [],
   "source": [
    "def findS(X , y):\n",
    "    specific_hypothesis = [\"pi\" for i in range(X.shape[1])]\n",
    "    for (i , row) in enumerate(X):\n",
    "        if(y[i] == 1):\n",
    "            for (j , val) in enumerate(specific_hypothesis):\n",
    "                if val == \"pi\":\n",
    "                    specific_hypothesis[j] = row[j]\n",
    "                elif val != row[j]:\n",
    "                    specific_hypothesis[j] = \"?\"\n",
    "    for val in specific_hypothesis:\n",
    "        print(val)\n",
    "                \n",
    "            "
   ]
  },
  {
   "cell_type": "code",
   "execution_count": 80,
   "id": "8115dd18",
   "metadata": {},
   "outputs": [
    {
     "name": "stdout",
     "output_type": "stream",
     "text": [
      "Sunny\n",
      "Warm\n",
      "?\n",
      "Strong\n",
      "?\n",
      "?\n"
     ]
    }
   ],
   "source": [
    "findS(X , y)"
   ]
  },
  {
   "cell_type": "markdown",
   "id": "146ca30d",
   "metadata": {},
   "source": [
    "## Candidate Elimination algorithm"
   ]
  },
  {
   "cell_type": "code",
   "execution_count": 82,
   "id": "ec04e808",
   "metadata": {},
   "outputs": [
    {
     "data": {
      "text/html": [
       "<div>\n",
       "<style scoped>\n",
       "    .dataframe tbody tr th:only-of-type {\n",
       "        vertical-align: middle;\n",
       "    }\n",
       "\n",
       "    .dataframe tbody tr th {\n",
       "        vertical-align: top;\n",
       "    }\n",
       "\n",
       "    .dataframe thead th {\n",
       "        text-align: right;\n",
       "    }\n",
       "</style>\n",
       "<table border=\"1\" class=\"dataframe\">\n",
       "  <thead>\n",
       "    <tr style=\"text-align: right;\">\n",
       "      <th></th>\n",
       "      <th>Sky</th>\n",
       "      <th>AirTemp</th>\n",
       "      <th>Humidity</th>\n",
       "      <th>Wind</th>\n",
       "      <th>Water</th>\n",
       "      <th>Forecast</th>\n",
       "      <th>Output</th>\n",
       "    </tr>\n",
       "  </thead>\n",
       "  <tbody>\n",
       "    <tr>\n",
       "      <th>0</th>\n",
       "      <td>Sunny</td>\n",
       "      <td>Warm</td>\n",
       "      <td>Normal</td>\n",
       "      <td>Strong</td>\n",
       "      <td>Warm</td>\n",
       "      <td>Same</td>\n",
       "      <td>1</td>\n",
       "    </tr>\n",
       "    <tr>\n",
       "      <th>1</th>\n",
       "      <td>Sunny</td>\n",
       "      <td>Warm</td>\n",
       "      <td>High</td>\n",
       "      <td>Strong</td>\n",
       "      <td>Warm</td>\n",
       "      <td>Same</td>\n",
       "      <td>1</td>\n",
       "    </tr>\n",
       "    <tr>\n",
       "      <th>2</th>\n",
       "      <td>Rainy</td>\n",
       "      <td>Cold</td>\n",
       "      <td>High</td>\n",
       "      <td>Strong</td>\n",
       "      <td>Warm</td>\n",
       "      <td>Change</td>\n",
       "      <td>0</td>\n",
       "    </tr>\n",
       "    <tr>\n",
       "      <th>3</th>\n",
       "      <td>Sunny</td>\n",
       "      <td>Warm</td>\n",
       "      <td>High</td>\n",
       "      <td>Strong</td>\n",
       "      <td>Cool</td>\n",
       "      <td>Change</td>\n",
       "      <td>1</td>\n",
       "    </tr>\n",
       "  </tbody>\n",
       "</table>\n",
       "</div>"
      ],
      "text/plain": [
       "     Sky AirTemp Humidity    Wind Water Forecast  Output\n",
       "0  Sunny    Warm   Normal  Strong  Warm     Same       1\n",
       "1  Sunny    Warm     High  Strong  Warm     Same       1\n",
       "2  Rainy    Cold     High  Strong  Warm   Change       0\n",
       "3  Sunny    Warm     High  Strong  Cool   Change       1"
      ]
     },
     "execution_count": 82,
     "metadata": {},
     "output_type": "execute_result"
    }
   ],
   "source": [
    "df = pd.read_csv(\"./datasets/findS.csv\")\n",
    "df = df.iloc[0:4 , :]\n",
    "df"
   ]
  },
  {
   "cell_type": "code",
   "execution_count": 83,
   "id": "d0f73bbc",
   "metadata": {},
   "outputs": [],
   "source": [
    "X = np.array(df.drop(columns=['Output']))\n",
    "y = np.array(df['Output'])"
   ]
  },
  {
   "cell_type": "code",
   "execution_count": 87,
   "id": "cfaf36b3",
   "metadata": {},
   "outputs": [],
   "source": [
    "S = [\"pi\" for i in range(X.shape[1])]\n",
    "G = [[\"?\" for i in range(X.shape[1])] for i in range(X.shape[1])]"
   ]
  },
  {
   "cell_type": "code",
   "execution_count": 93,
   "id": "62bd11af",
   "metadata": {},
   "outputs": [],
   "source": [
    "def candidate_elimination(X , y):\n",
    "    for (i , row) in enumerate(X):\n",
    "        if y[i] == 1:\n",
    "            for (j , val) in enumerate(row):\n",
    "                if S[j] == \"pi\":\n",
    "                    S[j] = val\n",
    "                elif S[j] != val:\n",
    "                    S[j] = \"?\"\n",
    "                    G[j][j] = \"?\"\n",
    "        else:\n",
    "            for ( j , val) in enumerate(row):\n",
    "                if G[j][j] == \"?\":\n",
    "                    G[j][j] = S[j]\n",
    "                elif G[j][j] == val:\n",
    "                    G[j][j] = S[j]\n",
    "    for val in S:\n",
    "            print(val)\n",
    "    for val in G:\n",
    "            print (val)           \n"
   ]
  },
  {
   "cell_type": "code",
   "execution_count": 94,
   "id": "2a3ca60d",
   "metadata": {},
   "outputs": [
    {
     "name": "stdout",
     "output_type": "stream",
     "text": [
      "Sunny\n",
      "Warm\n",
      "?\n",
      "Strong\n",
      "?\n",
      "?\n",
      "['Sunny', '?', '?', '?', '?', '?']\n",
      "['?', 'Warm', '?', '?', '?', '?']\n",
      "['?', '?', '?', '?', '?', '?']\n",
      "['?', '?', '?', 'Strong', '?', '?']\n",
      "['?', '?', '?', '?', '?', '?']\n",
      "['?', '?', '?', '?', '?', '?']\n"
     ]
    }
   ],
   "source": [
    "candidate_elimination(X , y)"
   ]
  },
  {
   "cell_type": "code",
   "execution_count": null,
   "id": "feb320dc",
   "metadata": {},
   "outputs": [],
   "source": []
  }
 ],
 "metadata": {
  "kernelspec": {
   "display_name": "Python 3 (ipykernel)",
   "language": "python",
   "name": "python3"
  },
  "language_info": {
   "codemirror_mode": {
    "name": "ipython",
    "version": 3
   },
   "file_extension": ".py",
   "mimetype": "text/x-python",
   "name": "python",
   "nbconvert_exporter": "python",
   "pygments_lexer": "ipython3",
   "version": "3.9.13"
  }
 },
 "nbformat": 4,
 "nbformat_minor": 5
}
